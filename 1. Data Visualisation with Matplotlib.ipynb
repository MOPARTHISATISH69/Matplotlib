{
 "cells": [
  {
   "cell_type": "markdown",
   "metadata": {},
   "source": [
    "1. Matplotlib is an open source Python-based library, which is used to create :\n",
    "    a. 2D plots\n",
    "    b. Quality plots in several hardcopy formats\n",
    "\n",
    "2. Matplotlib is a useful library which:\n",
    "    a. Can be used to create high-end graphs\n",
    "    b. Provides lot of graphs an dplots for creation\n",
    "    c. Is interactive\n",
    "    d. Requires less coding to generate high-end graphs\n",
    "\n",
    "3. Sub-packages of Matplotlib \n",
    "    a. matplotlib.axes\n",
    "    b. matplotlib.backends\n",
    "    c. matplotlib.compat\n",
    "    d. matplotlib.delaunay\n",
    "    e. matplotlib.projections\n",
    "    f. matplotlib.sphinxext\n",
    "    g. matplotlib.style\n",
    "    h. matplotlib.testing\n",
    "    i. matplotlib.tests\n",
    "    j. matplotlib.tri\n",
    " \n",
    "4. matplotlib plots:\n",
    "    a. line plot\n",
    "    b. histogram\n",
    "    c. scatter plot\n",
    "    d. 3D plot\n",
    "    e. Image plot\n",
    "    f. Contour plot\n",
    "    g. Polar plot"
   ]
  },
  {
   "cell_type": "code",
   "execution_count": null,
   "metadata": {},
   "outputs": [],
   "source": []
  }
 ],
 "metadata": {
  "kernelspec": {
   "display_name": "Python 3",
   "language": "python",
   "name": "python3"
  },
  "language_info": {
   "codemirror_mode": {
    "name": "ipython",
    "version": 3
   },
   "file_extension": ".py",
   "mimetype": "text/x-python",
   "name": "python",
   "nbconvert_exporter": "python",
   "pygments_lexer": "ipython3",
   "version": "3.7.6"
  }
 },
 "nbformat": 4,
 "nbformat_minor": 4
}
